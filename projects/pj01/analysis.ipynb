{
 "cells": [
  {
   "cell_type": "markdown",
   "metadata": {},
   "source": [
    "# Hypothesis\n",
    "\n",
    "In Comp 110, There are more people completed AP Computer Science Principles than AP Computer Science A."
   ]
  },
  {
   "cell_type": "markdown",
   "metadata": {},
   "source": [
    "### The Following is to automatically reload the imported modules."
   ]
  },
  {
   "cell_type": "code",
   "execution_count": 1,
   "metadata": {},
   "outputs": [],
   "source": [
    "%reload_ext autoreload\n",
    "%autoreload 2"
   ]
  },
  {
   "cell_type": "markdown",
   "metadata": {},
   "source": [
    "### First, I will read in the CSV Rows and turn a row-oriented data table into a column-oriented table."
   ]
  },
  {
   "cell_type": "code",
   "execution_count": 2,
   "metadata": {},
   "outputs": [],
   "source": [
    "from data_utils import read_csv_rows, columnar\n",
    "from tabulate import tabulate\n",
    "\n",
    "data_rows: list[dict[str, str]] = read_csv_rows('../../data/survey.csv')\n",
    "columns: dict[str, list[str]] = columnar(data_rows)"
   ]
  },
  {
   "cell_type": "markdown",
   "metadata": {},
   "source": [
    "### Next, I will display the first 15 students' completion status for AP CompSci A & AP CompSci Principles. ('' is equivalent to \"No\" for this survey question)\n",
    "\n",
    "Disclaimer, some survey responses have blank spots (gaps in the table)."
   ]
  },
  {
   "cell_type": "code",
   "execution_count": 3,
   "metadata": {},
   "outputs": [
    {
     "data": {
      "text/html": [
       "<table>\n",
       "<thead>\n",
       "<tr><th>AP_A  </th><th>AP_Principles  </th></tr>\n",
       "</thead>\n",
       "<tbody>\n",
       "<tr><td>      </td><td>               </td></tr>\n",
       "<tr><td>      </td><td>               </td></tr>\n",
       "<tr><td>      </td><td>               </td></tr>\n",
       "<tr><td>      </td><td>               </td></tr>\n",
       "<tr><td>      </td><td>               </td></tr>\n",
       "<tr><td>Yes   </td><td>Yes            </td></tr>\n",
       "<tr><td>      </td><td>               </td></tr>\n",
       "<tr><td>      </td><td>               </td></tr>\n",
       "<tr><td>      </td><td>               </td></tr>\n",
       "<tr><td>      </td><td>               </td></tr>\n",
       "<tr><td>      </td><td>               </td></tr>\n",
       "<tr><td>      </td><td>               </td></tr>\n",
       "<tr><td>No    </td><td>No             </td></tr>\n",
       "<tr><td>      </td><td>               </td></tr>\n",
       "<tr><td>      </td><td>               </td></tr>\n",
       "</tbody>\n",
       "</table>"
      ],
      "text/plain": [
       "'<table>\\n<thead>\\n<tr><th>AP_A  </th><th>AP_Principles  </th></tr>\\n</thead>\\n<tbody>\\n<tr><td>      </td><td>               </td></tr>\\n<tr><td>      </td><td>               </td></tr>\\n<tr><td>      </td><td>               </td></tr>\\n<tr><td>      </td><td>               </td></tr>\\n<tr><td>      </td><td>               </td></tr>\\n<tr><td>Yes   </td><td>Yes            </td></tr>\\n<tr><td>      </td><td>               </td></tr>\\n<tr><td>      </td><td>               </td></tr>\\n<tr><td>      </td><td>               </td></tr>\\n<tr><td>      </td><td>               </td></tr>\\n<tr><td>      </td><td>               </td></tr>\\n<tr><td>      </td><td>               </td></tr>\\n<tr><td>No    </td><td>No             </td></tr>\\n<tr><td>      </td><td>               </td></tr>\\n<tr><td>      </td><td>               </td></tr>\\n</tbody>\\n</table>'"
      ]
     },
     "execution_count": 3,
     "metadata": {},
     "output_type": "execute_result"
    }
   ],
   "source": [
    "from data_utils import head, select\n",
    "\n",
    "updated_table: dict[str, list[str]] = select(columns, [\"AP_A\", \"AP_Principles\"])\n",
    "tabulate(head(updated_table, 15), updated_table.keys(), \"html\")"
   ]
  },
  {
   "cell_type": "markdown",
   "metadata": {},
   "source": [
    "### Next, I will track and count the number of students who completed APCS A & APCS Principles (or didn't) and display the results."
   ]
  },
  {
   "cell_type": "code",
   "execution_count": 4,
   "metadata": {},
   "outputs": [
    {
     "name": "stdout",
     "output_type": "stream",
     "text": [
      "Completed APCS A: {'Yes': 35, 'No': 135}\n",
      "Completed APCS Principles: {'Yes': 46, 'No': 124}\n"
     ]
    }
   ],
   "source": [
    "from data_utils import count\n",
    "from helpers import percentage\n",
    "\n",
    "completed_cs_a: dict[str, int] = count(updated_table[\"AP_A\"])\n",
    "completed_cs_p: dict[str, int] = count(updated_table[\"AP_Principles\"])\n",
    "\n",
    "# Removes blank '' responses\n",
    "completed_cs_a.pop('')\n",
    "completed_cs_p.pop('')\n",
    "\n",
    "print(f\"Completed APCS A: {completed_cs_a}\")\n",
    "print(f\"Completed APCS Principles: {completed_cs_p}\")"
   ]
  },
  {
   "cell_type": "markdown",
   "metadata": {},
   "source": [
    "### Lastly, I will calculate the percentage of 'Yes' responses out of the total for each class.\n",
    "### The results are also displayed with a bar graph."
   ]
  },
  {
   "cell_type": "code",
   "execution_count": 5,
   "metadata": {},
   "outputs": [
    {
     "name": "stdout",
     "output_type": "stream",
     "text": [
      "\n",
      "Percentage of 'Yes' responses for APCS A: 20.59%\n",
      "Percentage of 'Yes' responses for APCS P: 27.06%\n"
     ]
    },
    {
     "data": {
      "image/png": "[encoded data removed]",
      "text/plain": [
       "<Figure size 432x216 with 1 Axes>"
      ]
     },
     "metadata": {
      "needs_background": "light"
     },
     "output_type": "display_data"
    }
   ],
   "source": [
    "import numpy as np\n",
    "import matplotlib.pyplot as plt\n",
    "\n",
    "perc_ap_a: float = percentage(completed_cs_a, \"Yes\")\n",
    "perc_ap_p: float = percentage(completed_cs_p, \"Yes\")\n",
    "\n",
    "print(f\"\\nPercentage of 'Yes' responses for APCS A: {100 * perc_ap_a:.2f}%\")\n",
    "print(f\"Percentage of 'Yes' responses for APCS P: {100 * perc_ap_p:.2f}%\")\n",
    "\n",
    "# Dataset generation\n",
    "data_dict = {'APCS A':perc_ap_a, 'APCS P':perc_ap_p}\n",
    "courses = list(data_dict.keys())\n",
    "values = list(data_dict.values())\n",
    "fig = plt.figure(figsize = (6, 3))\n",
    "\n",
    "# Bar graph\n",
    "plt.bar(courses, values, color ='green',\n",
    "        width = 0.3)\n",
    "plt.xlabel(\"Courses\")\n",
    "plt.ylabel(\"No. of students enrolled\")\n",
    "plt.title(\"Percent of students who completed APCS classes\")\n",
    "plt.show()"
   ]
  },
  {
   "cell_type": "markdown",
   "metadata": {},
   "source": [
    "# Conclusion\n",
    "\n",
    "After some work, we can see that my hypothesis was correct. Personally, I took both APCS-A and APCS Principles in high school. I'm currently a first-year at UNC, so this was what I assumed would be the case. I made this hypothesis for a few reasons. Firstly, APCS-A is (arguably) more difficult than APCS Principles, so people may not have WANTED to take it--or even failed/dropped it somehow. Secondly, APCS Principles is a prerequisite for APCS-A; therefore, some people may not have had the time to take it in high school (it may also could not have been offered for them). Lastly, the AP exam for APCS-A gives the student the opportunity to get credit for Comp 110 if they score a 5. This means that there may have been a select few that didn't have to take Comp 110 for their CS path."
   ]
  }
 ],
 "metadata": {
  "interpreter": {
   "hash": "16dd1f0e6febe29089962fb2487a942d8d2b9927ae6d9b119e77798fd68476cf"
  },
  "kernelspec": {
   "display_name": "Python 3.9.6 64-bit",
   "language": "python",
   "name": "python3"
  },
  "language_info": {
   "codemirror_mode": {
    "name": "ipython",
    "version": 3
   },
   "file_extension": ".py",
   "mimetype": "text/x-python",
   "name": "python",
   "nbconvert_exporter": "python",
   "pygments_lexer": "ipython3",
   "version": "3.9.6"
  },
  "orig_nbformat": 4
 },
 "nbformat": 4,
 "nbformat_minor": 2
}
